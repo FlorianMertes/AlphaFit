{
 "cells": [
  {
   "cell_type": "markdown",
   "metadata": {},
   "source": [
    "We consider the Peak-function given by the mixture of exponentially modified Gaussians as\n",
    "\n",
    "$$P = \\sum w_i T_i $$\n",
    "\n",
    "with"
   ]
  },
  {
   "cell_type": "code",
   "execution_count": 16,
   "metadata": {},
   "outputs": [
    {
     "data": {
      "text/latex": [
       "$\\displaystyle T_{i} = \\frac{e^{\\frac{\\sigma_{i}^{2}}{2 \\tau_{i}^{2}} + \\frac{- \\mu_{i} + x}{\\tau_{i}}} \\operatorname{erfc}{\\left(\\frac{\\sqrt{2} \\left(\\frac{\\sigma_{i}}{\\tau_{i}} + \\frac{- \\mu_{i} + x}{\\sigma_{i}}\\right)}{2} \\right)}}{2 \\tau_{i}}$"
      ],
      "text/plain": [
       "Eq(T_i, exp(sigma_i**2/(2*tau_i**2) + (-mu_i + x)/tau_i)*erfc(sqrt(2)*(sigma_i/tau_i + (-mu_i + x)/sigma_i)/2)/(2*tau_i))"
      ]
     },
     "execution_count": 16,
     "metadata": {},
     "output_type": "execute_result"
    }
   ],
   "source": [
    "import sympy as sp\n",
    "x = sp.Symbol('x')\n",
    "tau = sp.Symbol('tau_i')\n",
    "sigma = sp.Symbol('sigma_i')\n",
    "mu = sp.Symbol('mu_i')\n",
    "\n",
    "T = sp.Symbol('T_i')\n",
    "J_ = sp.Symbol('J_i')\n",
    "\n",
    "J = sp.sqrt(2)*sp.exp(-(sigma/tau + (-mu+x)/sigma)**2/2)*sp.exp(sigma**2/(2*tau**2)+(-mu+x)/tau)/(2*sp.sqrt(sp.pi)*tau)\n",
    "\n",
    "eq = sp.Eq(\n",
    "    T,\n",
    "    1/(2*tau) * sp.exp((x-mu)/tau + sigma**2/(2*tau**2)) * sp.erfc(((x-mu)/sigma + sigma/tau)/sp.sqrt(2))\n",
    ")\n",
    "\n",
    "eq"
   ]
  },
  {
   "cell_type": "code",
   "execution_count": 31,
   "metadata": {},
   "outputs": [],
   "source": [
    "eq_ddsigma = sp.Eq(\n",
    "    sp.Derivative(T,sigma),\n",
    "    sp.diff(eq.rhs,sigma).subs({eq.rhs:T,J:J_})\n",
    ")\n",
    "\n",
    "eq_ddtau = sp.Eq(\n",
    "    sp.Derivative(T,tau),\n",
    "    sp.diff(eq.rhs,tau).subs({eq.rhs:T,J:J_})\n",
    ")\n",
    "\n",
    "eq_ddmu = sp.Eq(\n",
    "    sp.Derivative(T,mu),\n",
    "    sp.diff(eq.rhs,mu).subs({eq.rhs:T,J:J_})\n",
    ")\n"
   ]
  },
  {
   "cell_type": "code",
   "execution_count": 32,
   "metadata": {},
   "outputs": [
    {
     "data": {
      "text/latex": [
       "$\\displaystyle \\frac{d}{d \\sigma_{i}} T_{i} = - J_{i} \\left(\\frac{1}{\\tau_{i}} + \\frac{\\mu_{i} - x}{\\sigma_{i}^{2}}\\right) + \\frac{T_{i} \\sigma_{i}}{\\tau_{i}^{2}}$"
      ],
      "text/plain": [
       "Eq(Derivative(T_i, sigma_i), -J_i*(1/tau_i + (mu_i - x)/sigma_i**2) + T_i*sigma_i/tau_i**2)"
      ]
     },
     "execution_count": 32,
     "metadata": {},
     "output_type": "execute_result"
    }
   ],
   "source": [
    "eq_ddsigma"
   ]
  },
  {
   "cell_type": "code",
   "execution_count": 33,
   "metadata": {},
   "outputs": [
    {
     "data": {
      "text/latex": [
       "$\\displaystyle \\frac{d}{d \\tau_{i}} T_{i} = \\frac{J_{i} \\sigma_{i}}{\\tau_{i}^{2}} + T_{i} \\left(- \\frac{\\sigma_{i}^{2}}{\\tau_{i}^{3}} + \\frac{\\mu_{i} - x}{\\tau_{i}^{2}}\\right) - \\frac{T_{i}}{\\tau_{i}}$"
      ],
      "text/plain": [
       "Eq(Derivative(T_i, tau_i), J_i*sigma_i/tau_i**2 + T_i*(-sigma_i**2/tau_i**3 + (mu_i - x)/tau_i**2) - T_i/tau_i)"
      ]
     },
     "execution_count": 33,
     "metadata": {},
     "output_type": "execute_result"
    }
   ],
   "source": [
    "eq_ddtau"
   ]
  },
  {
   "cell_type": "code",
   "execution_count": 34,
   "metadata": {},
   "outputs": [
    {
     "data": {
      "text/latex": [
       "$\\displaystyle \\frac{d}{d \\mu_{i}} T_{i} = \\frac{J_{i}}{\\sigma_{i}} - \\frac{T_{i}}{\\tau_{i}}$"
      ],
      "text/plain": [
       "Eq(Derivative(T_i, mu_i), J_i/sigma_i - T_i/tau_i)"
      ]
     },
     "execution_count": 34,
     "metadata": {},
     "output_type": "execute_result"
    }
   ],
   "source": [
    "eq_ddmu"
   ]
  },
  {
   "cell_type": "markdown",
   "metadata": {},
   "source": [
    "with"
   ]
  },
  {
   "cell_type": "code",
   "execution_count": 20,
   "metadata": {},
   "outputs": [
    {
     "data": {
      "text/latex": [
       "$\\displaystyle J_{i} = \\frac{\\sqrt{2} e^{\\frac{- \\mu_{i}^{2} + 2 \\mu_{i} x - x^{2}}{2 \\sigma_{i}^{2}}}}{2 \\sqrt{\\pi} \\tau_{i}}$"
      ],
      "text/plain": [
       "Eq(J_i, sqrt(2)*exp((-mu_i**2 + 2*mu_i*x - x**2)/(2*sigma_i**2))/(2*sqrt(pi)*tau_i))"
      ]
     },
     "execution_count": 20,
     "metadata": {},
     "output_type": "execute_result"
    }
   ],
   "source": [
    "sp.Eq(J_,J.simplify())"
   ]
  },
  {
   "cell_type": "code",
   "execution_count": null,
   "metadata": {},
   "outputs": [],
   "source": []
  }
 ],
 "metadata": {
  "kernelspec": {
   "display_name": "general_scientific",
   "language": "python",
   "name": "general_scientific"
  },
  "language_info": {
   "codemirror_mode": {
    "name": "ipython",
    "version": 3
   },
   "file_extension": ".py",
   "mimetype": "text/x-python",
   "name": "python",
   "nbconvert_exporter": "python",
   "pygments_lexer": "ipython3",
   "version": "3.9.1"
  }
 },
 "nbformat": 4,
 "nbformat_minor": 4
}
