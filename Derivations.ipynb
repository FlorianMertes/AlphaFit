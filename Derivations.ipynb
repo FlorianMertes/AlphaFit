{
 "cells": [
  {
   "cell_type": "markdown",
   "metadata": {},
   "source": [
    "We consider the Peak-function given by the mixture of exponentially modified Gaussians as\n",
    "\n",
    "$$P = \\sum w_i T_i $$\n",
    "\n",
    "with"
   ]
  },
  {
   "cell_type": "code",
   "execution_count": 2,
   "metadata": {},
   "outputs": [
    {
     "output_type": "execute_result",
     "data": {
      "text/plain": [
       "Eq(T_i, exp(sigma_i**2/(2*tau_i**2) + (-mu_i + x)/tau_i)*erfc(sqrt(2)*(sigma_i/tau_i + (-mu_i + x)/sigma_i)/2)/(2*tau_i))"
      ],
      "text/latex": "$\\displaystyle T_{i} = \\frac{e^{\\frac{\\sigma_{i}^{2}}{2 \\tau_{i}^{2}} + \\frac{- \\mu_{i} + x}{\\tau_{i}}} \\operatorname{erfc}{\\left(\\frac{\\sqrt{2} \\left(\\frac{\\sigma_{i}}{\\tau_{i}} + \\frac{- \\mu_{i} + x}{\\sigma_{i}}\\right)}{2} \\right)}}{2 \\tau_{i}}$"
     },
     "metadata": {},
     "execution_count": 2
    }
   ],
   "source": [
    "import sympy as sp\n",
    "x = sp.Symbol('x')\n",
    "tau = sp.Symbol('tau_i')\n",
    "sigma = sp.Symbol('sigma_i')\n",
    "mu = sp.Symbol('mu_i')\n",
    "\n",
    "T = sp.Symbol('T_i')\n",
    "J_ = sp.Symbol('J_i')\n",
    "\n",
    "J = sp.sqrt(2)*sp.exp(-(sigma/tau + (-mu+x)/sigma)**2/2)*sp.exp(sigma**2/(2*tau**2)+(-mu+x)/tau)/(2*sp.sqrt(sp.pi)*tau)\n",
    "\n",
    "eq = sp.Eq(\n",
    "    T,\n",
    "    1/(2*tau) * sp.exp((x-mu)/tau + sigma**2/(2*tau**2)) * sp.erfc(((x-mu)/sigma + sigma/tau)/sp.sqrt(2))\n",
    ")\n",
    "\n",
    "eq"
   ]
  },
  {
   "cell_type": "code",
   "execution_count": 3,
   "metadata": {},
   "outputs": [],
   "source": [
    "eq_ddsigma = sp.Eq(\n",
    "    sp.Derivative(T,sigma),\n",
    "    sp.diff(eq.rhs,sigma).subs({eq.rhs:T,J:J_})\n",
    ")\n",
    "\n",
    "eq_ddtau = sp.Eq(\n",
    "    sp.Derivative(T,tau),\n",
    "    sp.diff(eq.rhs,tau).subs({eq.rhs:T,J:J_})\n",
    ")\n",
    "\n",
    "eq_ddmu = sp.Eq(\n",
    "    sp.Derivative(T,mu),\n",
    "    sp.diff(eq.rhs,mu).subs({eq.rhs:T,J:J_})\n",
    ")\n"
   ]
  },
  {
   "cell_type": "code",
   "execution_count": 4,
   "metadata": {},
   "outputs": [
    {
     "output_type": "execute_result",
     "data": {
      "text/plain": [
       "Eq(Derivative(T_i, sigma_i), -J_i*(1/tau_i + (mu_i - x)/sigma_i**2) + T_i*sigma_i/tau_i**2)"
      ],
      "text/latex": "$\\displaystyle \\frac{d}{d \\sigma_{i}} T_{i} = - J_{i} \\left(\\frac{1}{\\tau_{i}} + \\frac{\\mu_{i} - x}{\\sigma_{i}^{2}}\\right) + \\frac{T_{i} \\sigma_{i}}{\\tau_{i}^{2}}$"
     },
     "metadata": {},
     "execution_count": 4
    }
   ],
   "source": [
    "eq_ddsigma"
   ]
  },
  {
   "cell_type": "code",
   "execution_count": 5,
   "metadata": {},
   "outputs": [
    {
     "output_type": "execute_result",
     "data": {
      "text/plain": [
       "Eq(Derivative(T_i, tau_i), J_i*sigma_i/tau_i**2 + T_i*(-sigma_i**2/tau_i**3 + (mu_i - x)/tau_i**2) - T_i/tau_i)"
      ],
      "text/latex": "$\\displaystyle \\frac{d}{d \\tau_{i}} T_{i} = \\frac{J_{i} \\sigma_{i}}{\\tau_{i}^{2}} + T_{i} \\left(- \\frac{\\sigma_{i}^{2}}{\\tau_{i}^{3}} + \\frac{\\mu_{i} - x}{\\tau_{i}^{2}}\\right) - \\frac{T_{i}}{\\tau_{i}}$"
     },
     "metadata": {},
     "execution_count": 5
    }
   ],
   "source": [
    "eq_ddtau"
   ]
  },
  {
   "cell_type": "code",
   "execution_count": 6,
   "metadata": {},
   "outputs": [
    {
     "output_type": "execute_result",
     "data": {
      "text/plain": [
       "Eq(Derivative(T_i, mu_i), J_i/sigma_i - T_i/tau_i)"
      ],
      "text/latex": "$\\displaystyle \\frac{d}{d \\mu_{i}} T_{i} = \\frac{J_{i}}{\\sigma_{i}} - \\frac{T_{i}}{\\tau_{i}}$"
     },
     "metadata": {},
     "execution_count": 6
    }
   ],
   "source": [
    "eq_ddmu"
   ]
  },
  {
   "cell_type": "markdown",
   "metadata": {},
   "source": [
    "with"
   ]
  },
  {
   "cell_type": "code",
   "execution_count": 7,
   "metadata": {},
   "outputs": [
    {
     "output_type": "execute_result",
     "data": {
      "text/plain": [
       "Eq(J_i, sqrt(2)*exp((-mu_i**2 + 2*mu_i*x - x**2)/(2*sigma_i**2))/(2*sqrt(pi)*tau_i))"
      ],
      "text/latex": "$\\displaystyle J_{i} = \\frac{\\sqrt{2} e^{\\frac{- \\mu_{i}^{2} + 2 \\mu_{i} x - x^{2}}{2 \\sigma_{i}^{2}}}}{2 \\sqrt{\\pi} \\tau_{i}}$"
     },
     "metadata": {},
     "execution_count": 7
    }
   ],
   "source": [
    "sp.Eq(J_,J.simplify())"
   ]
  },
  {
   "source": [
    "Hence, we can view the $P(x)$ as the dot product\n",
    "\n",
    "$$P_{\\theta}(x) = w_{\\theta}^T T_{\\theta} $$\n",
    "\n",
    "where $T \\in \\mathbb{R}^{n \\cdot 1}$ and $w \\in \\mathbb{R}^{n \\cdot 1}$ and $\\theta \\in \\mathbb{R}^{k \\cdot 1}$ is a vector of parameters for the peak model.\n",
    "\n",
    "Then, by product rule\n",
    "\n",
    "$$\\frac{\\partial P_{\\theta}}{\\partial \\theta} = w^T \\frac{\\partial T_{\\theta}}{\\partial \\theta} + T\\frac{\\partial w_{\\theta}}{\\partial \\theta}$$\n",
    "\n",
    "which can help us to constrain the weights to sum to 1 (e.g. then include the gradient of that operation)."
   ],
   "cell_type": "markdown",
   "metadata": {}
  },
  {
   "source": [
    "# Hessian\n",
    "\n",
    "The Hessian of P, e.g. $\\frac{\\partial² P_{\\theta}}{\\partial \\theta^T \\partial \\theta} $ involves computation using rank 3 tensors, however the end result is still a matrix, since $P \\in \\mathbb{R}$\n",
    "\n",
    "$$ \\frac{\\partial² P_{\\theta}}{\\partial \\theta^T \\partial \\theta} = $$"
   ],
   "cell_type": "markdown",
   "metadata": {}
  },
  {
   "cell_type": "code",
   "execution_count": 33,
   "metadata": {},
   "outputs": [],
   "source": [
    "theta = sp.Array([sp.Symbol('theta_'+str(i)) for i in range(8)])\n",
    "w = sp.Array([sp.Symbol('w_'+str(i)) for i in range(2)])\n",
    "T = sp.Array([sp.Symbol('T_'+str(i)) for i in range(2)])"
   ]
  },
  {
   "cell_type": "code",
   "execution_count": 38,
   "metadata": {},
   "outputs": [],
   "source": [
    "dwdtheta = sp.Matrix([\n",
    "    [sp.Derivative(w[0],theta[i]) for i in range(8)],\n",
    "    [sp.Derivative(w[1],theta[i]) for i in range(8)]\n",
    "])\n",
    "\n",
    "dTdtheta = sp.Matrix([\n",
    "    [sp.Derivative(T[0],theta[i]) for i in range(8)],\n",
    "    [sp.Derivative(T[1],theta[i]) for i in range(8)]\n",
    "])"
   ]
  },
  {
   "cell_type": "code",
   "execution_count": 39,
   "metadata": {},
   "outputs": [
    {
     "output_type": "execute_result",
     "data": {
      "text/plain": [
       "Matrix([\n",
       "[Derivative(w_0, theta_0), Derivative(w_0, theta_1), Derivative(w_0, theta_2), Derivative(w_0, theta_3), Derivative(w_0, theta_4), Derivative(w_0, theta_5), Derivative(w_0, theta_6), Derivative(w_0, theta_7)],\n",
       "[Derivative(w_1, theta_0), Derivative(w_1, theta_1), Derivative(w_1, theta_2), Derivative(w_1, theta_3), Derivative(w_1, theta_4), Derivative(w_1, theta_5), Derivative(w_1, theta_6), Derivative(w_1, theta_7)]])"
      ],
      "text/latex": "$\\displaystyle \\left[\\begin{matrix}\\frac{d}{d \\theta_{0}} w_{0} & \\frac{d}{d \\theta_{1}} w_{0} & \\frac{d}{d \\theta_{2}} w_{0} & \\frac{d}{d \\theta_{3}} w_{0} & \\frac{d}{d \\theta_{4}} w_{0} & \\frac{d}{d \\theta_{5}} w_{0} & \\frac{d}{d \\theta_{6}} w_{0} & \\frac{d}{d \\theta_{7}} w_{0}\\\\\\frac{d}{d \\theta_{0}} w_{1} & \\frac{d}{d \\theta_{1}} w_{1} & \\frac{d}{d \\theta_{2}} w_{1} & \\frac{d}{d \\theta_{3}} w_{1} & \\frac{d}{d \\theta_{4}} w_{1} & \\frac{d}{d \\theta_{5}} w_{1} & \\frac{d}{d \\theta_{6}} w_{1} & \\frac{d}{d \\theta_{7}} w_{1}\\end{matrix}\\right]$"
     },
     "metadata": {},
     "execution_count": 39
    }
   ],
   "source": [
    "dwdtheta"
   ]
  },
  {
   "cell_type": "code",
   "execution_count": 40,
   "metadata": {},
   "outputs": [
    {
     "output_type": "execute_result",
     "data": {
      "text/plain": [
       "Matrix([[T_0*w_0 + T_1*w_1]])"
      ],
      "text/latex": "$\\displaystyle \\left[\\begin{matrix}T_{0} w_{0} + T_{1} w_{1}\\end{matrix}\\right]$"
     },
     "metadata": {},
     "execution_count": 40
    }
   ],
   "source": [
    "sp.Matrix(w).T*sp.Matrix(T)"
   ]
  },
  {
   "cell_type": "code",
   "execution_count": 45,
   "metadata": {},
   "outputs": [],
   "source": [
    "derivative = sp.Matrix(T).T*dwdtheta + sp.Matrix(w).T*dTdtheta"
   ]
  },
  {
   "cell_type": "code",
   "execution_count": 46,
   "metadata": {},
   "outputs": [
    {
     "output_type": "execute_result",
     "data": {
      "text/plain": [
       "T_0*Derivative(w_0, theta_0) + T_1*Derivative(w_1, theta_0) + w_0*Derivative(T_0, theta_0) + w_1*Derivative(T_1, theta_0)"
      ],
      "text/latex": "$\\displaystyle T_{0} \\frac{d}{d \\theta_{0}} w_{0} + T_{1} \\frac{d}{d \\theta_{0}} w_{1} + w_{0} \\frac{d}{d \\theta_{0}} T_{0} + w_{1} \\frac{d}{d \\theta_{0}} T_{1}$"
     },
     "metadata": {},
     "execution_count": 46
    }
   ],
   "source": [
    "derivative[0]"
   ]
  },
  {
   "source": [
    "# Positivity constraints\n",
    "\n",
    "It is clear, that (for simplicity) all parameters of the model are strictily positive (in that the peaks have left-handed tailings).\n",
    "\n",
    "Therefore, we apply the softplus transformation to each parameter\n",
    "\n",
    "$$ f(x) = \\ln{1 + e^x} $$\n",
    "\n",
    "which is infinitely differentiable (and is available with numerically stable computation in a lot of languages).\n",
    "\n",
    "Then, we can rewrite the derivatives and the hessian."
   ],
   "cell_type": "markdown",
   "metadata": {}
  },
  {
   "cell_type": "code",
   "execution_count": 52,
   "metadata": {},
   "outputs": [],
   "source": [
    "s = sp.Symbol('s')\n",
    "t = sp.Symbol('t')\n",
    "m = sp.Symbol('m')\n",
    "sigma = sp.Symbol('sigma')\n",
    "tau = sp.Symbol('tau')\n",
    "mu = sp.Symbol('mu')\n",
    "\n",
    "theta = sp.Array([s,t,m])\n",
    "\n",
    "p = sp.Array([sp.log(1+sp.exp(s)),sp.log(1+sp.exp(t)),sp.log(1+sp.exp(m))])\n",
    "\n",
    "T = 1/(2*p[1]) * sp.exp((x-p[2])/p[1] + p[0]**2/(2*p[1]**2)) * sp.erfc(((x-p[2])/p[0])+p[0]/p[1]/sp.sqrt(2))\n",
    "\n",
    "T_ = sp.Symbol('T')"
   ]
  },
  {
   "cell_type": "code",
   "execution_count": 88,
   "metadata": {},
   "outputs": [],
   "source": [
    "real_jacobian = sp.diff(T,theta)\n",
    "real_hessian = sp.hessian(T,theta)"
   ]
  },
  {
   "cell_type": "code",
   "execution_count": 100,
   "metadata": {},
   "outputs": [],
   "source": [
    "simple_jacobian = sp.Matrix(sp.diff(T.subs({p[0]:sigma,p[1]:tau,p[2]:mu}),sp.Array([sigma,tau,mu])))\n",
    "simple_hessian = sp.Matrix(sp.diff(T.subs({p[0]:sigma,p[1]:tau,p[2]:mu}),sp.Array([sigma,tau,mu])))\n",
    "jacobian_transform = sp.Matrix(sp.diff(p,theta))"
   ]
  },
  {
   "cell_type": "code",
   "execution_count": 96,
   "metadata": {},
   "outputs": [
    {
     "output_type": "execute_result",
     "data": {
      "text/plain": [
       "Matrix([\n",
       "[exp(s)/(exp(s) + 1),                   0,                   0],\n",
       "[                  0, exp(t)/(exp(t) + 1),                   0],\n",
       "[                  0,                   0, exp(m)/(exp(m) + 1)]])"
      ],
      "text/latex": "$\\displaystyle \\left[\\begin{matrix}\\frac{e^{s}}{e^{s} + 1} & 0 & 0\\\\0 & \\frac{e^{t}}{e^{t} + 1} & 0\\\\0 & 0 & \\frac{e^{m}}{e^{m} + 1}\\end{matrix}\\right]$"
     },
     "metadata": {},
     "execution_count": 96
    }
   ],
   "source": [
    "jacobian_transform"
   ]
  },
  {
   "cell_type": "code",
   "execution_count": null,
   "metadata": {},
   "outputs": [],
   "source": []
  }
 ],
 "metadata": {
  "kernelspec": {
   "display_name": "general_scientific",
   "language": "python",
   "name": "general_scientific"
  },
  "language_info": {
   "codemirror_mode": {
    "name": "ipython",
    "version": 3
   },
   "file_extension": ".py",
   "mimetype": "text/x-python",
   "name": "python",
   "nbconvert_exporter": "python",
   "pygments_lexer": "ipython3",
   "version": "3.9.1-final"
  }
 },
 "nbformat": 4,
 "nbformat_minor": 4
}