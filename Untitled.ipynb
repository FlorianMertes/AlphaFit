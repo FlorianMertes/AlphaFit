{
 "cells": [
  {
   "cell_type": "code",
   "execution_count": 1,
   "metadata": {
    "scrolled": false
   },
   "outputs": [],
   "source": [
    "from Nuclide import Nuclide\n",
    "import numpy as np\n",
    "import matplotlib.pyplot as plt"
   ]
  },
  {
   "cell_type": "code",
   "execution_count": 2,
   "metadata": {
    "scrolled": false
   },
   "outputs": [
    {
     "name": "stdout",
     "output_type": "stream",
     "text": [
      "Attempting to JIT compile generated function: \n",
      "\n",
      "#@nb.jit('float64(float64,float64,float64,float64,float64,float64,float64,float64)',nopython=True,nogil=True,parallel=True)\n",
      "def generated_func(x,A,tau0,tau1,tau2,sigma,w1,w2):\n",
      "\tx0=tau1**(-1)\n",
      "\tx1=sigma*x0\n",
      "\tx2=sigma**(-1)\n",
      "\tx3=x - 5100.0\n",
      "\tx4=x2*x3\n",
      "\tx5=(1/2)*math.sqrt(2)\n",
      "\tx6=(1/2)*sigma**2\n",
      "\tx7=x6/tau1**2\n",
      "\tx8=w1*x0\n",
      "\tx9=x - 4536.0\n",
      "\tx10=x2*x9\n",
      "\tx11=tau2**(-1)\n",
      "\tx12=sigma*x11\n",
      "\tx13=x6/tau2**2\n",
      "\tx14=w2*x11\n",
      "\tx15=tau0**(-1)\n",
      "\tx16=sigma*x15\n",
      "\tx17=x6/tau0**2\n",
      "\tx18=x15*(-w1 - w2 + 1)\n",
      "\treturn A*(0.5*x14*math.exp(x11*x3 + x13)*math.erfc(x5*(x12 + x4)) + 0.25*x14*math.exp(x11*x9 + x13)*math.erfc(x5*(x10 + x12)) + 0.5*x18*math.exp(x15*x3 + x17)*math.erfc(x5*(x16 + x4)) + 0.25*x18*math.exp(x15*x9 + x17)*math.erfc(x5*(x10 + x16)) + 0.5*x8*math.exp(x0*x3 + x7)*math.erfc(x5*(x1 + x4)) + 0.25*x8*math.exp(x0*x9 + x7)*math.erfc(x5*(x1 + x10)))\n",
      "\n"
     ]
    }
   ],
   "source": [
    "f = Nuclide([4536.,5100.],[0.5,1.])"
   ]
  },
  {
   "cell_type": "code",
   "execution_count": 3,
   "metadata": {},
   "outputs": [],
   "source": [
    "energy = np.arange(3000,6000).astype(np.float64)\n"
   ]
  },
  {
   "cell_type": "code",
   "execution_count": 4,
   "metadata": {},
   "outputs": [],
   "source": [
    "f.parameters['A'] = 1000.\n",
    "f.parameters['tau2'] = 1000.\n",
    "f.parameters['tau1'] = 100.\n",
    "f.parameters['tau0'] = 1.\n",
    "f.parameters['sigma'] = 15.\n",
    "f.parameters['w1'] = 0.33\n",
    "f.parameters['w2'] = 0.33"
   ]
  },
  {
   "cell_type": "code",
   "execution_count": 5,
   "metadata": {},
   "outputs": [
    {
     "ename": "OverflowError",
     "evalue": "math range error",
     "output_type": "error",
     "traceback": [
      "\u001b[1;31m---------------------------------------------------------------------------\u001b[0m",
      "\u001b[1;31mOverflowError\u001b[0m                             Traceback (most recent call last)",
      "\u001b[1;32m<ipython-input-5-d9bd382fd156>\u001b[0m in \u001b[0;36m<module>\u001b[1;34m\u001b[0m\n\u001b[1;32m----> 1\u001b[1;33m \u001b[0mget_ipython\u001b[0m\u001b[1;33m(\u001b[0m\u001b[1;33m)\u001b[0m\u001b[1;33m.\u001b[0m\u001b[0mrun_cell_magic\u001b[0m\u001b[1;33m(\u001b[0m\u001b[1;34m'timeit'\u001b[0m\u001b[1;33m,\u001b[0m \u001b[1;34m''\u001b[0m\u001b[1;33m,\u001b[0m \u001b[1;34m'f(energy)\\n'\u001b[0m\u001b[1;33m)\u001b[0m\u001b[1;33m\u001b[0m\u001b[1;33m\u001b[0m\u001b[0m\n\u001b[0m",
      "\u001b[1;32m~\\AppData\\Local\\Continuum\\miniconda3\\lib\\site-packages\\IPython\\core\\interactiveshell.py\u001b[0m in \u001b[0;36mrun_cell_magic\u001b[1;34m(self, magic_name, line, cell)\u001b[0m\n\u001b[0;32m   2357\u001b[0m             \u001b[1;32mwith\u001b[0m \u001b[0mself\u001b[0m\u001b[1;33m.\u001b[0m\u001b[0mbuiltin_trap\u001b[0m\u001b[1;33m:\u001b[0m\u001b[1;33m\u001b[0m\u001b[1;33m\u001b[0m\u001b[0m\n\u001b[0;32m   2358\u001b[0m                 \u001b[0margs\u001b[0m \u001b[1;33m=\u001b[0m \u001b[1;33m(\u001b[0m\u001b[0mmagic_arg_s\u001b[0m\u001b[1;33m,\u001b[0m \u001b[0mcell\u001b[0m\u001b[1;33m)\u001b[0m\u001b[1;33m\u001b[0m\u001b[1;33m\u001b[0m\u001b[0m\n\u001b[1;32m-> 2359\u001b[1;33m                 \u001b[0mresult\u001b[0m \u001b[1;33m=\u001b[0m \u001b[0mfn\u001b[0m\u001b[1;33m(\u001b[0m\u001b[1;33m*\u001b[0m\u001b[0margs\u001b[0m\u001b[1;33m,\u001b[0m \u001b[1;33m**\u001b[0m\u001b[0mkwargs\u001b[0m\u001b[1;33m)\u001b[0m\u001b[1;33m\u001b[0m\u001b[1;33m\u001b[0m\u001b[0m\n\u001b[0m\u001b[0;32m   2360\u001b[0m             \u001b[1;32mreturn\u001b[0m \u001b[0mresult\u001b[0m\u001b[1;33m\u001b[0m\u001b[1;33m\u001b[0m\u001b[0m\n\u001b[0;32m   2361\u001b[0m \u001b[1;33m\u001b[0m\u001b[0m\n",
      "\u001b[1;32m<C:\\Users\\mertes01\\AppData\\Local\\Continuum\\miniconda3\\lib\\site-packages\\decorator.py:decorator-gen-61>\u001b[0m in \u001b[0;36mtimeit\u001b[1;34m(self, line, cell, local_ns)\u001b[0m\n",
      "\u001b[1;32m~\\AppData\\Local\\Continuum\\miniconda3\\lib\\site-packages\\IPython\\core\\magic.py\u001b[0m in \u001b[0;36m<lambda>\u001b[1;34m(f, *a, **k)\u001b[0m\n\u001b[0;32m    185\u001b[0m     \u001b[1;31m# but it's overkill for just that one bit of state.\u001b[0m\u001b[1;33m\u001b[0m\u001b[1;33m\u001b[0m\u001b[1;33m\u001b[0m\u001b[0m\n\u001b[0;32m    186\u001b[0m     \u001b[1;32mdef\u001b[0m \u001b[0mmagic_deco\u001b[0m\u001b[1;33m(\u001b[0m\u001b[0marg\u001b[0m\u001b[1;33m)\u001b[0m\u001b[1;33m:\u001b[0m\u001b[1;33m\u001b[0m\u001b[1;33m\u001b[0m\u001b[0m\n\u001b[1;32m--> 187\u001b[1;33m         \u001b[0mcall\u001b[0m \u001b[1;33m=\u001b[0m \u001b[1;32mlambda\u001b[0m \u001b[0mf\u001b[0m\u001b[1;33m,\u001b[0m \u001b[1;33m*\u001b[0m\u001b[0ma\u001b[0m\u001b[1;33m,\u001b[0m \u001b[1;33m**\u001b[0m\u001b[0mk\u001b[0m\u001b[1;33m:\u001b[0m \u001b[0mf\u001b[0m\u001b[1;33m(\u001b[0m\u001b[1;33m*\u001b[0m\u001b[0ma\u001b[0m\u001b[1;33m,\u001b[0m \u001b[1;33m**\u001b[0m\u001b[0mk\u001b[0m\u001b[1;33m)\u001b[0m\u001b[1;33m\u001b[0m\u001b[1;33m\u001b[0m\u001b[0m\n\u001b[0m\u001b[0;32m    188\u001b[0m \u001b[1;33m\u001b[0m\u001b[0m\n\u001b[0;32m    189\u001b[0m         \u001b[1;32mif\u001b[0m \u001b[0mcallable\u001b[0m\u001b[1;33m(\u001b[0m\u001b[0marg\u001b[0m\u001b[1;33m)\u001b[0m\u001b[1;33m:\u001b[0m\u001b[1;33m\u001b[0m\u001b[1;33m\u001b[0m\u001b[0m\n",
      "\u001b[1;32m~\\AppData\\Local\\Continuum\\miniconda3\\lib\\site-packages\\IPython\\core\\magics\\execution.py\u001b[0m in \u001b[0;36mtimeit\u001b[1;34m(self, line, cell, local_ns)\u001b[0m\n\u001b[0;32m   1156\u001b[0m             \u001b[1;32mfor\u001b[0m \u001b[0mindex\u001b[0m \u001b[1;32min\u001b[0m \u001b[0mrange\u001b[0m\u001b[1;33m(\u001b[0m\u001b[1;36m0\u001b[0m\u001b[1;33m,\u001b[0m \u001b[1;36m10\u001b[0m\u001b[1;33m)\u001b[0m\u001b[1;33m:\u001b[0m\u001b[1;33m\u001b[0m\u001b[1;33m\u001b[0m\u001b[0m\n\u001b[0;32m   1157\u001b[0m                 \u001b[0mnumber\u001b[0m \u001b[1;33m=\u001b[0m \u001b[1;36m10\u001b[0m \u001b[1;33m**\u001b[0m \u001b[0mindex\u001b[0m\u001b[1;33m\u001b[0m\u001b[1;33m\u001b[0m\u001b[0m\n\u001b[1;32m-> 1158\u001b[1;33m                 \u001b[0mtime_number\u001b[0m \u001b[1;33m=\u001b[0m \u001b[0mtimer\u001b[0m\u001b[1;33m.\u001b[0m\u001b[0mtimeit\u001b[0m\u001b[1;33m(\u001b[0m\u001b[0mnumber\u001b[0m\u001b[1;33m)\u001b[0m\u001b[1;33m\u001b[0m\u001b[1;33m\u001b[0m\u001b[0m\n\u001b[0m\u001b[0;32m   1159\u001b[0m                 \u001b[1;32mif\u001b[0m \u001b[0mtime_number\u001b[0m \u001b[1;33m>=\u001b[0m \u001b[1;36m0.2\u001b[0m\u001b[1;33m:\u001b[0m\u001b[1;33m\u001b[0m\u001b[1;33m\u001b[0m\u001b[0m\n\u001b[0;32m   1160\u001b[0m                     \u001b[1;32mbreak\u001b[0m\u001b[1;33m\u001b[0m\u001b[1;33m\u001b[0m\u001b[0m\n",
      "\u001b[1;32m~\\AppData\\Local\\Continuum\\miniconda3\\lib\\site-packages\\IPython\\core\\magics\\execution.py\u001b[0m in \u001b[0;36mtimeit\u001b[1;34m(self, number)\u001b[0m\n\u001b[0;32m    167\u001b[0m         \u001b[0mgc\u001b[0m\u001b[1;33m.\u001b[0m\u001b[0mdisable\u001b[0m\u001b[1;33m(\u001b[0m\u001b[1;33m)\u001b[0m\u001b[1;33m\u001b[0m\u001b[1;33m\u001b[0m\u001b[0m\n\u001b[0;32m    168\u001b[0m         \u001b[1;32mtry\u001b[0m\u001b[1;33m:\u001b[0m\u001b[1;33m\u001b[0m\u001b[1;33m\u001b[0m\u001b[0m\n\u001b[1;32m--> 169\u001b[1;33m             \u001b[0mtiming\u001b[0m \u001b[1;33m=\u001b[0m \u001b[0mself\u001b[0m\u001b[1;33m.\u001b[0m\u001b[0minner\u001b[0m\u001b[1;33m(\u001b[0m\u001b[0mit\u001b[0m\u001b[1;33m,\u001b[0m \u001b[0mself\u001b[0m\u001b[1;33m.\u001b[0m\u001b[0mtimer\u001b[0m\u001b[1;33m)\u001b[0m\u001b[1;33m\u001b[0m\u001b[1;33m\u001b[0m\u001b[0m\n\u001b[0m\u001b[0;32m    170\u001b[0m         \u001b[1;32mfinally\u001b[0m\u001b[1;33m:\u001b[0m\u001b[1;33m\u001b[0m\u001b[1;33m\u001b[0m\u001b[0m\n\u001b[0;32m    171\u001b[0m             \u001b[1;32mif\u001b[0m \u001b[0mgcold\u001b[0m\u001b[1;33m:\u001b[0m\u001b[1;33m\u001b[0m\u001b[1;33m\u001b[0m\u001b[0m\n",
      "\u001b[1;32m<magic-timeit>\u001b[0m in \u001b[0;36minner\u001b[1;34m(_it, _timer)\u001b[0m\n",
      "\u001b[1;32mF:\\GitHubProjects\\AlphaFit\\Nuclide.py\u001b[0m in \u001b[0;36m__call__\u001b[1;34m(self, x)\u001b[0m\n\u001b[0;32m    129\u001b[0m         \u001b[0my\u001b[0m \u001b[1;33m=\u001b[0m \u001b[0mnp\u001b[0m\u001b[1;33m.\u001b[0m\u001b[0mzeros_like\u001b[0m\u001b[1;33m(\u001b[0m\u001b[0mx\u001b[0m\u001b[1;33m)\u001b[0m\u001b[1;33m\u001b[0m\u001b[1;33m\u001b[0m\u001b[0m\n\u001b[0;32m    130\u001b[0m         \u001b[1;32mfor\u001b[0m \u001b[0mk\u001b[0m \u001b[1;32min\u001b[0m \u001b[0mrange\u001b[0m\u001b[1;33m(\u001b[0m\u001b[0mlen\u001b[0m\u001b[1;33m(\u001b[0m\u001b[0mx\u001b[0m\u001b[1;33m)\u001b[0m\u001b[1;33m)\u001b[0m\u001b[1;33m:\u001b[0m\u001b[1;33m\u001b[0m\u001b[1;33m\u001b[0m\u001b[0m\n\u001b[1;32m--> 131\u001b[1;33m             \u001b[0my\u001b[0m\u001b[1;33m[\u001b[0m\u001b[0mk\u001b[0m\u001b[1;33m]\u001b[0m \u001b[1;33m=\u001b[0m \u001b[0mself\u001b[0m\u001b[1;33m.\u001b[0m\u001b[0mfit_func\u001b[0m\u001b[1;33m(\u001b[0m\u001b[0mx\u001b[0m\u001b[1;33m[\u001b[0m\u001b[0mk\u001b[0m\u001b[1;33m]\u001b[0m\u001b[1;33m,\u001b[0m\u001b[1;33m*\u001b[0m\u001b[0mself\u001b[0m\u001b[1;33m.\u001b[0m\u001b[0mparameters\u001b[0m\u001b[1;33m.\u001b[0m\u001b[0mvalues\u001b[0m\u001b[1;33m(\u001b[0m\u001b[1;33m)\u001b[0m\u001b[1;33m)\u001b[0m\u001b[1;33m\u001b[0m\u001b[1;33m\u001b[0m\u001b[0m\n\u001b[0m\u001b[0;32m    132\u001b[0m         \u001b[1;32mreturn\u001b[0m \u001b[0my\u001b[0m\u001b[1;33m\u001b[0m\u001b[1;33m\u001b[0m\u001b[0m\n\u001b[0;32m    133\u001b[0m \u001b[1;33m\u001b[0m\u001b[0m\n",
      "\u001b[1;32mF:\\GitHubProjects\\AlphaFit\\Nuclide.py\u001b[0m in \u001b[0;36mgenerated_func\u001b[1;34m(x, A, tau0, tau1, tau2, sigma, w1, w2)\u001b[0m\n",
      "\u001b[1;31mOverflowError\u001b[0m: math range error"
     ]
    }
   ],
   "source": [
    "%%timeit\n",
    "f(energy)"
   ]
  },
  {
   "cell_type": "code",
   "execution_count": 6,
   "metadata": {},
   "outputs": [
    {
     "ename": "OverflowError",
     "evalue": "math range error",
     "output_type": "error",
     "traceback": [
      "\u001b[1;31m---------------------------------------------------------------------------\u001b[0m",
      "\u001b[1;31mOverflowError\u001b[0m                             Traceback (most recent call last)",
      "\u001b[1;32m<ipython-input-6-d24c82b5b397>\u001b[0m in \u001b[0;36m<module>\u001b[1;34m\u001b[0m\n\u001b[0;32m      1\u001b[0m \u001b[0mplt\u001b[0m\u001b[1;33m.\u001b[0m\u001b[0mfigure\u001b[0m\u001b[1;33m(\u001b[0m\u001b[1;33m)\u001b[0m\u001b[1;33m\u001b[0m\u001b[1;33m\u001b[0m\u001b[0m\n\u001b[1;32m----> 2\u001b[1;33m \u001b[0mplt\u001b[0m\u001b[1;33m.\u001b[0m\u001b[0mplot\u001b[0m\u001b[1;33m(\u001b[0m\u001b[0mf\u001b[0m\u001b[1;33m(\u001b[0m\u001b[0menergy\u001b[0m\u001b[1;33m)\u001b[0m\u001b[1;33m)\u001b[0m\u001b[1;33m\u001b[0m\u001b[1;33m\u001b[0m\u001b[0m\n\u001b[0m\u001b[0;32m      3\u001b[0m \u001b[0mplt\u001b[0m\u001b[1;33m.\u001b[0m\u001b[0mshow\u001b[0m\u001b[1;33m(\u001b[0m\u001b[1;33m)\u001b[0m\u001b[1;33m\u001b[0m\u001b[1;33m\u001b[0m\u001b[0m\n",
      "\u001b[1;32mF:\\GitHubProjects\\AlphaFit\\Nuclide.py\u001b[0m in \u001b[0;36m__call__\u001b[1;34m(self, x)\u001b[0m\n\u001b[0;32m    129\u001b[0m         \u001b[0my\u001b[0m \u001b[1;33m=\u001b[0m \u001b[0mnp\u001b[0m\u001b[1;33m.\u001b[0m\u001b[0mzeros_like\u001b[0m\u001b[1;33m(\u001b[0m\u001b[0mx\u001b[0m\u001b[1;33m)\u001b[0m\u001b[1;33m\u001b[0m\u001b[1;33m\u001b[0m\u001b[0m\n\u001b[0;32m    130\u001b[0m         \u001b[1;32mfor\u001b[0m \u001b[0mk\u001b[0m \u001b[1;32min\u001b[0m \u001b[0mrange\u001b[0m\u001b[1;33m(\u001b[0m\u001b[0mlen\u001b[0m\u001b[1;33m(\u001b[0m\u001b[0mx\u001b[0m\u001b[1;33m)\u001b[0m\u001b[1;33m)\u001b[0m\u001b[1;33m:\u001b[0m\u001b[1;33m\u001b[0m\u001b[1;33m\u001b[0m\u001b[0m\n\u001b[1;32m--> 131\u001b[1;33m             \u001b[0my\u001b[0m\u001b[1;33m[\u001b[0m\u001b[0mk\u001b[0m\u001b[1;33m]\u001b[0m \u001b[1;33m=\u001b[0m \u001b[0mself\u001b[0m\u001b[1;33m.\u001b[0m\u001b[0mfit_func\u001b[0m\u001b[1;33m(\u001b[0m\u001b[0mx\u001b[0m\u001b[1;33m[\u001b[0m\u001b[0mk\u001b[0m\u001b[1;33m]\u001b[0m\u001b[1;33m,\u001b[0m\u001b[1;33m*\u001b[0m\u001b[0mself\u001b[0m\u001b[1;33m.\u001b[0m\u001b[0mparameters\u001b[0m\u001b[1;33m.\u001b[0m\u001b[0mvalues\u001b[0m\u001b[1;33m(\u001b[0m\u001b[1;33m)\u001b[0m\u001b[1;33m)\u001b[0m\u001b[1;33m\u001b[0m\u001b[1;33m\u001b[0m\u001b[0m\n\u001b[0m\u001b[0;32m    132\u001b[0m         \u001b[1;32mreturn\u001b[0m \u001b[0my\u001b[0m\u001b[1;33m\u001b[0m\u001b[1;33m\u001b[0m\u001b[0m\n\u001b[0;32m    133\u001b[0m \u001b[1;33m\u001b[0m\u001b[0m\n",
      "\u001b[1;32mF:\\GitHubProjects\\AlphaFit\\Nuclide.py\u001b[0m in \u001b[0;36mgenerated_func\u001b[1;34m(x, A, tau0, tau1, tau2, sigma, w1, w2)\u001b[0m\n",
      "\u001b[1;31mOverflowError\u001b[0m: math range error"
     ]
    },
    {
     "data": {
      "text/plain": [
       "<Figure size 432x288 with 0 Axes>"
      ]
     },
     "metadata": {},
     "output_type": "display_data"
    }
   ],
   "source": [
    "\n",
    "plt.figure()\n",
    "plt.plot(f(energy))\n",
    "plt.show()"
   ]
  },
  {
   "cell_type": "code",
   "execution_count": 23,
   "metadata": {},
   "outputs": [
    {
     "data": {
      "image/png": "[encoded data removed]",
      "text/plain": [
       "<Figure size 432x288 with 1 Axes>"
      ]
     },
     "metadata": {
      "needs_background": "light"
     },
     "output_type": "display_data"
    }
   ],
   "source": [
    "import tensorflow as tf\n",
    "import TFNuclide\n",
    "import numpy as np\n",
    "tf_type = tf.float32\n",
    "np_type =  np.float32\n",
    "import matplotlib.pyplot as plt\n",
    "emissions = np.array([4563.])\n",
    "intensities = np.array([0.7])\n",
    "x = tf.cast(tf.range(4000,4700),tf_type)\n",
    "i = TFNuclide.Nuclide(emissions,intensities)\n",
    "res = i.evaluate(x)\n",
    "plt.figure()\n",
    "plt.plot(res)\n",
    "#plt.yscale('log')\n",
    "plt.show()"
   ]
  },
  {
   "cell_type": "code",
   "execution_count": 24,
   "metadata": {},
   "outputs": [
    {
     "name": "stdout",
     "output_type": "stream",
     "text": [
      "303 µs ± 8.09 µs per loop (mean ± std. dev. of 7 runs, 1000 loops each)\n"
     ]
    }
   ],
   "source": [
    "%%timeit\n",
    "i.evaluate(x)"
   ]
  },
  {
   "cell_type": "code",
   "execution_count": 25,
   "metadata": {},
   "outputs": [
    {
     "data": {
      "text/plain": [
       "<tf.Tensor: shape=(700,), dtype=float32, numpy=\n",
       "array([8.33116181e-04, 8.41489236e-04, 8.49946169e-04, 8.58488493e-04,\n",
       "       8.67116149e-04, 8.75831116e-04, 8.84633046e-04, 8.93523975e-04,\n",
       "       9.02503845e-04, 9.11574461e-04, 9.20735591e-04, 9.29989328e-04,\n",
       "       9.39335674e-04, 9.48776433e-04, 9.58311895e-04, 9.67942935e-04,\n",
       "       9.77671123e-04, 9.87496693e-04, 9.97421448e-04, 1.00744539e-03,\n",
       "       1.01757061e-03, 1.02779712e-03, 1.03812688e-03, 1.04856002e-03,\n",
       "       1.05909840e-03, 1.06974225e-03, 1.08049368e-03, 1.09135255e-03,\n",
       "       1.10232097e-03, 1.11339928e-03, 1.12458924e-03, 1.13589142e-03,\n",
       "       1.14730757e-03, 1.15883781e-03, 1.17048470e-03, 1.18224800e-03,\n",
       "       1.19412993e-03, 1.20613084e-03, 1.21825293e-03, 1.23049691e-03,\n",
       "       1.24286325e-03, 1.25535449e-03, 1.26797089e-03, 1.28071441e-03,\n",
       "       1.29358552e-03, 1.30658667e-03, 1.31971773e-03, 1.33298140e-03,\n",
       "       1.34637777e-03, 1.35990931e-03, 1.37357623e-03, 1.38738123e-03,\n",
       "       1.40132441e-03, 1.41540822e-03, 1.42963289e-03, 1.44400133e-03,\n",
       "       1.45851343e-03, 1.47317199e-03, 1.48797734e-03, 1.50293205e-03,\n",
       "       1.51803636e-03, 1.53329328e-03, 1.54870283e-03, 1.56426779e-03,\n",
       "       1.57998933e-03, 1.59586815e-03, 1.61190727e-03, 1.62810669e-03,\n",
       "       1.64446991e-03, 1.66099670e-03, 1.67769031e-03, 1.69455085e-03,\n",
       "       1.71158195e-03, 1.72878313e-03, 1.74615812e-03, 1.76370691e-03,\n",
       "       1.78143277e-03, 1.79933617e-03, 1.81742013e-03, 1.83568499e-03,\n",
       "       1.85413449e-03, 1.87276816e-03, 1.89159042e-03, 1.91060058e-03,\n",
       "       1.92980282e-03, 1.94919738e-03, 1.96878752e-03, 1.98857370e-03,\n",
       "       2.00855965e-03, 2.02874653e-03, 2.04913504e-03, 2.06972985e-03,\n",
       "       2.09053047e-03, 2.11154111e-03, 2.13276199e-03, 2.15419708e-03,\n",
       "       2.17584637e-03, 2.19771452e-03, 2.21980154e-03, 2.24211160e-03,\n",
       "       2.26464425e-03, 2.28740508e-03, 2.31039338e-03, 2.33361381e-03,\n",
       "       2.35706638e-03, 2.38075596e-03, 2.40468187e-03, 2.42885016e-03,\n",
       "       2.45325989e-03, 2.47791619e-03, 2.50281906e-03, 2.52797315e-03,\n",
       "       2.55337916e-03, 2.57904152e-03, 2.60496209e-03, 2.63114157e-03,\n",
       "       2.65758578e-03, 2.68429425e-03, 2.71127257e-03, 2.73852050e-03,\n",
       "       2.76604365e-03, 2.79384223e-03, 2.82192137e-03, 2.85028154e-03,\n",
       "       2.87892809e-03, 2.90786102e-03, 2.93708616e-03, 2.96660373e-03,\n",
       "       2.99641932e-03, 3.02653317e-03, 3.05695063e-03, 3.08767264e-03,\n",
       "       3.11870547e-03, 3.15004797e-03, 3.18170711e-03, 3.21368268e-03,\n",
       "       3.24598188e-03, 3.27860354e-03, 3.31155490e-03, 3.34483734e-03,\n",
       "       3.37845297e-03, 3.41240736e-03, 3.44670191e-03, 3.48134269e-03,\n",
       "       3.51632992e-03, 3.55167058e-03, 3.58736468e-03, 3.62341898e-03,\n",
       "       3.65983392e-03, 3.69661674e-03, 3.73376743e-03, 3.77129321e-03,\n",
       "       3.80919408e-03, 3.84747866e-03, 3.88614531e-03, 3.92520288e-03,\n",
       "       3.96465044e-03, 4.00449662e-03, 4.04474139e-03, 4.08539316e-03,\n",
       "       4.12645098e-03, 4.16792324e-03, 4.20981087e-03, 4.25212085e-03,\n",
       "       4.29485552e-03, 4.33801999e-03, 4.38161753e-03, 4.42565326e-03,\n",
       "       4.47013136e-03, 4.51505743e-03, 4.56043426e-03, 4.60626744e-03,\n",
       "       4.65256115e-03, 4.69931960e-03, 4.74654883e-03, 4.79425211e-03,\n",
       "       4.84243641e-03, 4.89110406e-03, 4.94026067e-03, 4.98991087e-03,\n",
       "       5.04006026e-03, 5.09071304e-03, 5.14187571e-03, 5.19355200e-03,\n",
       "       5.24574844e-03, 5.29846875e-03, 5.35171945e-03, 5.40550519e-03,\n",
       "       5.45983110e-03, 5.51470276e-03, 5.57012716e-03, 5.62610803e-03,\n",
       "       5.68265049e-03, 5.73976245e-03, 5.79744810e-03, 5.85571304e-03,\n",
       "       5.91456424e-03, 5.97400637e-03, 6.03404595e-03, 6.09468902e-03,\n",
       "       6.15594164e-03, 6.21781126e-03, 6.28030160e-03, 6.34341920e-03,\n",
       "       6.40717195e-03, 6.47156499e-03, 6.53660530e-03, 6.60229940e-03,\n",
       "       6.66865287e-03, 6.73567411e-03, 6.80336868e-03, 6.87174313e-03,\n",
       "       6.94080582e-03, 7.01056188e-03, 7.08101923e-03, 7.15218484e-03,\n",
       "       7.22406479e-03, 7.29666790e-03, 7.37000071e-03, 7.44407019e-03,\n",
       "       7.51888519e-03, 7.59445084e-03, 7.67077599e-03, 7.74786901e-03,\n",
       "       7.82573596e-03, 7.90438615e-03, 7.98382796e-03, 8.06406699e-03,\n",
       "       8.14511254e-03, 8.22697207e-03, 8.30965396e-03, 8.39316752e-03,\n",
       "       8.47751927e-03, 8.56272038e-03, 8.64877645e-03, 8.73569865e-03,\n",
       "       8.82349350e-03, 8.91217031e-03, 9.00174025e-03, 9.09220893e-03,\n",
       "       9.18358751e-03, 9.27588344e-03, 9.36910789e-03, 9.46326926e-03,\n",
       "       9.55837592e-03, 9.65443905e-03, 9.75146797e-03, 9.84947104e-03,\n",
       "       9.94846132e-03, 1.00484435e-02, 1.01494323e-02, 1.02514382e-02,\n",
       "       1.03544667e-02, 1.04585309e-02, 1.05636409e-02, 1.06698070e-02,\n",
       "       1.07770404e-02, 1.08853504e-02, 1.09947510e-02, 1.11052487e-02,\n",
       "       1.12168593e-02, 1.13295903e-02, 1.14434548e-02, 1.15584619e-02,\n",
       "       1.16746267e-02, 1.17919585e-02, 1.19104693e-02, 1.20301722e-02,\n",
       "       1.21510774e-02, 1.22731971e-02, 1.23965442e-02, 1.25211328e-02,\n",
       "       1.26469703e-02, 1.27740754e-02, 1.29024573e-02, 1.30321290e-02,\n",
       "       1.31631065e-02, 1.32953981e-02, 1.34290196e-02, 1.35639831e-02,\n",
       "       1.37003036e-02, 1.38379922e-02, 1.39770675e-02, 1.41175389e-02,\n",
       "       1.42594231e-02, 1.44027332e-02, 1.45474812e-02, 1.46936858e-02,\n",
       "       1.48413600e-02, 1.49905188e-02, 1.51411742e-02, 1.52933458e-02,\n",
       "       1.54470475e-02, 1.56022925e-02, 1.57590974e-02, 1.59174781e-02,\n",
       "       1.60774514e-02, 1.62390340e-02, 1.64022371e-02, 1.65670812e-02,\n",
       "       1.67335849e-02, 1.69017632e-02, 1.70716289e-02, 1.72432009e-02,\n",
       "       1.74164977e-02, 1.75915360e-02, 1.77683346e-02, 1.79469101e-02,\n",
       "       1.81272775e-02, 1.83094628e-02, 1.84934717e-02, 1.86793357e-02,\n",
       "       1.88670643e-02, 1.90566834e-02, 1.92482062e-02, 1.94416549e-02,\n",
       "       1.96370464e-02, 1.98343992e-02, 2.00337414e-02, 2.02350840e-02,\n",
       "       2.04384495e-02, 2.06438582e-02, 2.08513308e-02, 2.10608914e-02,\n",
       "       2.12725569e-02, 2.14863494e-02, 2.17022933e-02, 2.19204053e-02,\n",
       "       2.21407078e-02, 2.23632287e-02, 2.25879811e-02, 2.28149928e-02,\n",
       "       2.30442900e-02, 2.32758876e-02, 2.35098135e-02, 2.37460919e-02,\n",
       "       2.39847414e-02, 2.42257919e-02, 2.44692676e-02, 2.47151852e-02,\n",
       "       2.49635782e-02, 2.52144635e-02, 2.54678745e-02, 2.57238336e-02,\n",
       "       2.59823631e-02, 2.62434892e-02, 2.65072398e-02, 2.67736409e-02,\n",
       "       2.70427205e-02, 2.73145027e-02, 2.75890194e-02, 2.78663002e-02,\n",
       "       2.81463601e-02, 2.84292363e-02, 2.87149567e-02, 2.90035475e-02,\n",
       "       2.92950347e-02, 2.95894537e-02, 2.98868343e-02, 3.01872026e-02,\n",
       "       3.04905903e-02, 3.07970252e-02, 3.11065409e-02, 3.14191654e-02,\n",
       "       3.17349322e-02, 3.20538767e-02, 3.23760211e-02, 3.27014066e-02,\n",
       "       3.30300629e-02, 3.33620198e-02, 3.36973183e-02, 3.40359882e-02,\n",
       "       3.43780555e-02, 3.47235575e-02, 3.50725390e-02, 3.54250260e-02,\n",
       "       3.57810594e-02, 3.61406617e-02, 3.65038887e-02, 3.68707590e-02,\n",
       "       3.72413173e-02, 3.76156047e-02, 3.79936546e-02, 3.83755006e-02,\n",
       "       3.87611873e-02, 3.91507447e-02, 3.95442285e-02, 3.99416648e-02,\n",
       "       4.03430872e-02, 4.07485515e-02, 4.11580950e-02, 4.15717475e-02,\n",
       "       4.19895649e-02, 4.24115844e-02, 4.28378358e-02, 4.32683863e-02,\n",
       "       4.37032618e-02, 4.41424996e-02, 4.45861667e-02, 4.50342894e-02,\n",
       "       4.54869159e-02, 4.59440984e-02, 4.64058816e-02, 4.68722992e-02,\n",
       "       4.73434143e-02, 4.78192680e-02, 4.82999086e-02, 4.87853922e-02,\n",
       "       4.92757484e-02, 4.97710481e-02, 5.02713323e-02, 5.07766493e-02,\n",
       "       5.12870476e-02, 5.18025942e-02, 5.23233265e-02, 5.28493077e-02,\n",
       "       5.33805862e-02, 5.39172217e-02, 5.44592626e-02, 5.50067760e-02,\n",
       "       5.55598065e-02, 5.61184138e-02, 5.66826537e-02, 5.72526008e-02,\n",
       "       5.78283034e-02, 5.84098175e-02, 5.89972138e-02, 5.95905595e-02,\n",
       "       6.01898953e-02, 6.07953109e-02, 6.14068657e-02, 6.20246157e-02,\n",
       "       6.26486540e-02, 6.32790253e-02, 6.39158040e-02, 6.45590797e-02,\n",
       "       6.52088970e-02, 6.58653677e-02, 6.65285438e-02, 6.71985224e-02,\n",
       "       6.78753704e-02, 6.85591698e-02, 6.92500174e-02, 6.99480176e-02,\n",
       "       7.06532300e-02, 7.13657737e-02, 7.20857233e-02, 7.28132054e-02,\n",
       "       7.35483021e-02, 7.42911473e-02, 7.50418529e-02, 7.58005157e-02,\n",
       "       7.65672773e-02, 7.73422569e-02, 7.81256109e-02, 7.89174736e-02,\n",
       "       7.97180012e-02, 8.05273578e-02, 8.13456923e-02, 8.21732134e-02,\n",
       "       8.30100849e-02, 8.38565305e-02, 8.47127661e-02, 8.55790228e-02,\n",
       "       8.64555687e-02, 8.73426348e-02, 8.82405117e-02, 8.91495645e-02,\n",
       "       9.00700539e-02, 9.10024047e-02, 9.19469520e-02, 9.29041579e-02,\n",
       "       9.38744619e-02, 9.48583707e-02, 9.58564281e-02, 9.68692079e-02,\n",
       "       9.78973657e-02, 9.89416018e-02, 1.00002669e-01, 1.01081431e-01,\n",
       "       1.02178775e-01, 1.03295721e-01, 1.04433358e-01, 1.05592899e-01,\n",
       "       1.06775641e-01, 1.07983068e-01, 1.09216757e-01, 1.10478453e-01,\n",
       "       1.11770086e-01, 1.13093749e-01, 1.14451788e-01, 1.15846783e-01,\n",
       "       1.17281541e-01, 1.18759155e-01, 1.20283045e-01, 1.21857002e-01,\n",
       "       1.23485178e-01, 1.25172138e-01, 1.26922980e-01, 1.28743231e-01,\n",
       "       1.30639061e-01, 1.32617250e-01, 1.34685278e-01, 1.36851430e-01,\n",
       "       1.39124826e-01, 1.41515508e-01, 1.44034654e-01, 1.46694466e-01,\n",
       "       1.49508595e-01, 1.52492046e-01, 1.55661359e-01, 1.59034982e-01,\n",
       "       1.62633210e-01, 1.66478604e-01, 1.70596227e-01, 1.75013885e-01,\n",
       "       1.79762632e-01, 1.84877068e-01, 1.90395996e-01, 1.96362823e-01,\n",
       "       2.02826649e-01, 2.09842831e-01, 2.17473999e-01, 2.25791588e-01,\n",
       "       2.34876901e-01, 2.44822696e-01, 2.55735159e-01, 2.67735600e-01,\n",
       "       2.80962318e-01, 2.95572728e-01, 3.11744839e-01, 3.29678893e-01,\n",
       "       3.49597603e-01, 3.71746361e-01, 3.96391273e-01, 4.23816502e-01,\n",
       "       4.54317451e-01, 4.88195330e-01, 5.25744379e-01, 5.67239463e-01,\n",
       "       6.12919331e-01, 6.62967622e-01, 7.17490435e-01, 7.76494265e-01,\n",
       "       8.39861035e-01, 9.07330096e-01, 9.78468359e-01, 1.05266488e+00,\n",
       "       1.12911510e+00, 1.20681894e+00, 1.28459990e+00, 1.36109567e+00,\n",
       "       1.43482840e+00, 1.50419998e+00, 1.56757164e+00, 1.62332749e+00,\n",
       "       1.66989303e+00, 1.70586777e+00, 1.73001230e+00, 1.74138284e+00,\n",
       "       1.73932874e+00, 1.72352564e+00, 1.69405961e+00, 1.65133774e+00,\n",
       "       1.59617198e+00, 1.52967918e+00, 1.45326781e+00, 1.36857998e+00,\n",
       "       1.27739847e+00, 1.18162489e+00, 1.08317721e+00, 9.83895838e-01,\n",
       "       8.85527968e-01, 7.89648294e-01, 6.97618663e-01, 6.10577762e-01,\n",
       "       5.29388785e-01, 4.54685181e-01, 3.86833787e-01, 3.25994581e-01,\n",
       "       2.72110969e-01, 2.24972218e-01, 1.84222758e-01, 1.49407983e-01,\n",
       "       1.20009609e-01, 9.54698920e-02, 7.52154812e-02, 5.86868450e-02,\n",
       "       4.53471802e-02, 3.47004086e-02, 2.62962040e-02, 1.97337493e-02,\n",
       "       1.46652777e-02, 1.07925693e-02, 1.96392555e-03, 1.40149414e-03,\n",
       "       9.90630127e-04, 6.93553768e-04, 4.80938790e-04, 3.30318435e-04,\n",
       "       2.24700052e-04, 1.51389133e-04, 1.01018886e-04, 6.67607092e-05,\n",
       "       4.36962764e-05, 2.83249537e-05, 1.81839150e-05, 1.15610937e-05,\n",
       "       7.27941733e-06, 4.53917710e-06, 2.80308700e-06, 1.71423869e-06,\n",
       "       1.03819173e-06, 6.22661673e-07, 3.69821095e-07, 2.17516899e-07,\n",
       "       1.26692669e-07, 7.30748013e-08, 4.17386730e-08, 2.36079565e-08,\n",
       "       1.32228877e-08, 7.33395211e-09, 4.02804723e-09, 2.19074625e-09,\n",
       "       1.17985421e-09, 6.29220953e-10, 3.32283506e-10, 1.73759743e-10,\n",
       "       8.99746805e-11, 4.61339127e-11, 2.34232807e-11, 1.17760758e-11,\n",
       "       5.86242816e-12, 2.88986001e-12, 1.41057110e-12, 6.81768281e-13,\n",
       "       3.26282892e-13, 1.54620999e-13, 7.25534406e-14, 3.37100546e-14,\n",
       "       1.55087887e-14, 7.06486083e-15, 3.18672154e-15, 1.42328450e-15,\n",
       "       6.29426742e-16, 2.75619942e-16, 1.19502545e-16, 5.13043158e-17,\n",
       "       2.18086913e-17, 9.17933575e-18, 3.82558129e-18, 1.57862963e-18,\n",
       "       6.45013315e-19, 2.60946480e-19, 1.04528720e-19, 4.14589482e-20,\n",
       "       1.62816464e-20, 6.33107077e-21, 2.43751244e-21, 9.29204839e-22,\n",
       "       3.50732733e-22, 1.31078630e-22, 4.85043592e-23, 1.77714332e-23,\n",
       "       6.44692512e-24, 2.31568935e-24, 8.23554663e-25, 2.90001983e-25,\n",
       "       1.01109707e-25, 3.49043957e-26, 1.19302524e-26, 4.03750451e-27,\n",
       "       1.35289578e-27, 4.48844618e-28, 1.47439687e-28, 4.79540095e-29,\n",
       "       1.54423937e-29, 4.92375237e-30, 1.55437687e-30, 4.85847426e-31,\n",
       "       1.50360692e-31, 4.60728457e-32, 1.39780340e-32, 4.19884047e-33,\n",
       "       1.20993002e-34, 3.56120261e-35, 1.03779255e-35, 2.99444254e-36,\n",
       "       0.00000000e+00, 0.00000000e+00, 0.00000000e+00, 0.00000000e+00,\n",
       "       0.00000000e+00, 0.00000000e+00, 0.00000000e+00, 0.00000000e+00,\n",
       "       0.00000000e+00, 0.00000000e+00, 0.00000000e+00, 0.00000000e+00],\n",
       "      dtype=float32)>"
      ]
     },
     "execution_count": 25,
     "metadata": {},
     "output_type": "execute_result"
    }
   ],
   "source": [
    "res"
   ]
  },
  {
   "cell_type": "code",
   "execution_count": 26,
   "metadata": {},
   "outputs": [
    {
     "data": {
      "text/plain": [
       "<tf.Tensor: shape=(1, 1, 1), dtype=float32, numpy=array([[[nan]]], dtype=float32)>"
      ]
     },
     "execution_count": 26,
     "metadata": {},
     "output_type": "execute_result"
    }
   ],
   "source": [
    "with tf.GradientTape() as tape:\n",
    "    a = i.evaluate(x)\n",
    "tape.gradient(a,i.sigma)"
   ]
  },
  {
   "cell_type": "code",
   "execution_count": null,
   "metadata": {},
   "outputs": [],
   "source": []
  }
 ],
 "metadata": {
  "hide_input": false,
  "kernelspec": {
   "display_name": "Python 3",
   "language": "python",
   "name": "python3"
  },
  "language_info": {
   "codemirror_mode": {
    "name": "ipython",
    "version": 3
   },
   "file_extension": ".py",
   "mimetype": "text/x-python",
   "name": "python",
   "nbconvert_exporter": "python",
   "pygments_lexer": "ipython3",
   "version": "3.7.6"
  },
  "latex_envs": {
   "LaTeX_envs_menu_present": true,
   "autoclose": false,
   "autocomplete": true,
   "bibliofile": "biblio.bib",
   "cite_by": "apalike",
   "current_citInitial": 1,
   "eqLabelWithNumbers": true,
   "eqNumInitial": 1,
   "hotkeys": {
    "equation": "Ctrl-E",
    "itemize": "Ctrl-I"
   },
   "labels_anchors": false,
   "latex_user_defs": false,
   "report_style_numbering": false,
   "user_envs_cfg": false
  },
  "toc": {
   "base_numbering": 1,
   "nav_menu": {},
   "number_sections": true,
   "sideBar": true,
   "skip_h1_title": false,
   "title_cell": "Table of Contents",
   "title_sidebar": "Contents",
   "toc_cell": false,
   "toc_position": {},
   "toc_section_display": true,
   "toc_window_display": false
  }
 },
 "nbformat": 4,
 "nbformat_minor": 4
}
